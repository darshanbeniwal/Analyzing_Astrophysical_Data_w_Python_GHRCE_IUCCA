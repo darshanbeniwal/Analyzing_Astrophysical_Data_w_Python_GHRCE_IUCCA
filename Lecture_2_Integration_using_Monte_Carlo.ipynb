{
  "nbformat": 4,
  "nbformat_minor": 0,
  "metadata": {
    "colab": {
      "provenance": [],
      "authorship_tag": "ABX9TyMjfa8QHOPR1MH9fgpPV0C8",
      "include_colab_link": true
    },
    "kernelspec": {
      "name": "python3",
      "display_name": "Python 3"
    },
    "language_info": {
      "name": "python"
    }
  },
  "cells": [
    {
      "cell_type": "markdown",
      "metadata": {
        "id": "view-in-github",
        "colab_type": "text"
      },
      "source": [
        "<a href=\"https://colab.research.google.com/github/darshanbeniwal/Astro_data_analysis_w_Python_GHRCE_IUCCA_2023/blob/main/Lecture_2_Integration_using_Monte_Carlo.ipynb\" target=\"_parent\"><img src=\"https://colab.research.google.com/assets/colab-badge.svg\" alt=\"Open In Colab\"/></a>"
      ]
    },
    {
      "cell_type": "markdown",
      "source": [
        "#Load the reuqired packages"
      ],
      "metadata": {
        "id": "e7uH6F6EU1IU"
      }
    },
    {
      "cell_type": "code",
      "source": [
        "import random\n",
        "import numpy as np"
      ],
      "metadata": {
        "id": "u5nWTJisVbHx"
      },
      "execution_count": null,
      "outputs": []
    },
    {
      "cell_type": "markdown",
      "source": [
        "#Define the function to be integrated"
      ],
      "metadata": {
        "id": "KOhoeAySVd2q"
      }
    },
    {
      "cell_type": "code",
      "execution_count": null,
      "metadata": {
        "id": "dDexBnw-TweG"
      },
      "outputs": [],
      "source": [
        "def f(x):\n",
        "    return x**2\n",
        "\n",
        "a = 0 # define the integration interval\n",
        "b = 1"
      ]
    },
    {
      "cell_type": "markdown",
      "source": [
        "#Evaluate intrgation for $N=1000$ "
      ],
      "metadata": {
        "id": "XCP5fVLidOnM"
      }
    },
    {
      "cell_type": "code",
      "source": [
        "n = 10000  #Total Number of random numbers\n",
        "\n",
        "points = [random.uniform(a, b) for i in range(n)] # generate random points within the interval\n",
        "\n",
        "values = [f(x) for x in points] # evaluate the function at each point\n",
        "\n",
        "average_value = sum(values) / n # compute the average value of the function\n",
        "\n",
        "integral = average_value * (b - a) # compute the estimated value of the integral\n",
        "\n",
        "print(\"Estimated value of the integral:\", integral)\n"
      ],
      "metadata": {
        "colab": {
          "base_uri": "https://localhost:8080/"
        },
        "id": "BMsIEsDCUdiU",
        "outputId": "bcd8cfb1-dab5-4c03-d3f3-6a8f3d456b41"
      },
      "execution_count": null,
      "outputs": [
        {
          "output_type": "stream",
          "name": "stdout",
          "text": [
            "Estimated value of the integral: 0.32718350440908056\n"
          ]
        }
      ]
    },
    {
      "cell_type": "markdown",
      "source": [
        "#Evaluate intrgation from $N=100$ to $N=1000000$ "
      ],
      "metadata": {
        "id": "vYzKMdMEe2cb"
      }
    },
    {
      "cell_type": "code",
      "source": [
        "for n in np.logspace(1, 7, num=7, dtype=int):\n",
        "  points = [random.uniform(a, b) for i in range(n)]\n",
        "  values = [f(x) for x in points]\n",
        "  average_value = sum(values) / n\n",
        "  integral = average_value * (b - a)\n",
        "  print(\"N:\",n,\"Estimated value of the integral:\", integral)"
      ],
      "metadata": {
        "colab": {
          "base_uri": "https://localhost:8080/"
        },
        "id": "WxxtedjxaBXA",
        "outputId": "0c71283b-8938-4486-e827-e948201f4993"
      },
      "execution_count": null,
      "outputs": [
        {
          "output_type": "stream",
          "name": "stdout",
          "text": [
            "N: 10 Estimated value of the integral: 0.3118411071121537\n",
            "N: 100 Estimated value of the integral: 0.31585044879360047\n",
            "N: 1000 Estimated value of the integral: 0.34267703096265334\n",
            "N: 10000 Estimated value of the integral: 0.33928398758134953\n",
            "N: 100000 Estimated value of the integral: 0.33350421493095816\n",
            "N: 1000000 Estimated value of the integral: 0.3334988799360833\n",
            "N: 10000000 Estimated value of the integral: 0.33331376552175723\n"
          ]
        }
      ]
    },
    {
      "cell_type": "code",
      "source": [],
      "metadata": {
        "id": "gJYhIyc6apP0"
      },
      "execution_count": null,
      "outputs": []
    }
  ]
}