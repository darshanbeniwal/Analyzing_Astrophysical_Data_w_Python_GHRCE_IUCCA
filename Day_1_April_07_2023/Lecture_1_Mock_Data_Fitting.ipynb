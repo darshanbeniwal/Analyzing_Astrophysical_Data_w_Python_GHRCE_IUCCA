{
  "nbformat": 4,
  "nbformat_minor": 0,
  "metadata": {
    "colab": {
      "provenance": []
    },
    "kernelspec": {
      "name": "python3",
      "display_name": "Python 3"
    },
    "language_info": {
      "name": "python"
    }
  },
  "cells": [
    {
      "cell_type": "markdown",
      "source": [
        "#Load the required packages"
      ],
      "metadata": {
        "id": "9p5kU6FGGa8g"
      }
    },
    {
      "cell_type": "code",
      "execution_count": null,
      "metadata": {
        "id": "DJPOM4jTj1hb"
      },
      "outputs": [],
      "source": [
        "import numpy as np\n",
        "import pandas as pd\n",
        "import matplotlib.pyplot as plt"
      ]
    },
    {
      "cell_type": "markdown",
      "source": [
        "#Load Mock dataset"
      ],
      "metadata": {
        "id": "YLLW1wlKGpl2"
      }
    },
    {
      "cell_type": "code",
      "source": [
        "x_mock=np.array((1.0,2.0,3.0,4.0,5.0))\n",
        "y_mock=np.array((2.3,4.1,6.2,8.1,10.0))\n",
        "err_y_mock=np.array((0.08, 0.12, 0.2 , 0.16, 0.28))"
      ],
      "metadata": {
        "id": "eGijQZKCGmN5"
      },
      "execution_count": null,
      "outputs": []
    },
    {
      "cell_type": "markdown",
      "source": [
        "#Plot datapoint"
      ],
      "metadata": {
        "id": "V0Jo4Dj0H4Va"
      }
    },
    {
      "cell_type": "code",
      "source": [
        "plt.errorbar(x_mock,y_mock,err_y_mock,fmt='b.')\n",
        "plt.xlabel('x')\n",
        "plt.ylabel('y')\n",
        "plt.show()"
      ],
      "metadata": {
        "colab": {
          "base_uri": "https://localhost:8080/",
          "height": 449
        },
        "id": "nFL6OHk-HiUJ",
        "outputId": "9390dfdc-6a1c-4b8b-bec8-98a23db5b940"
      },
      "execution_count": null,
      "outputs": [
        {
          "output_type": "display_data",
          "data": {
            "text/plain": [
              "<Figure size 640x480 with 1 Axes>"
            ],
            "image/png": "[encoded data removed]"
          },
          "metadata": {}
        }
      ]
    },
    {
      "cell_type": "markdown",
      "source": [
        "#Perform Chi-square analysis"
      ],
      "metadata": {
        "id": "HknD9KsjINxD"
      }
    },
    {
      "cell_type": "code",
      "source": [
        "a=np.linspace(0,2,10)\n",
        "a"
      ],
      "metadata": {
        "colab": {
          "base_uri": "https://localhost:8080/"
        },
        "id": "53_SeRgWRk3C",
        "outputId": "31d48ef7-ee5c-457a-b181-bb392e213dd2"
      },
      "execution_count": 67,
      "outputs": [
        {
          "output_type": "execute_result",
          "data": {
            "text/plain": [
              "array([0.        , 0.22222222, 0.44444444, 0.66666667, 0.88888889,\n",
              "       1.11111111, 1.33333333, 1.55555556, 1.77777778, 2.        ])"
            ]
          },
          "metadata": {},
          "execution_count": 67
        }
      ]
    },
    {
      "cell_type": "code",
      "source": [
        "a_arr=[]\n",
        "b_arr=[]\n",
        "chi_sq_arr=[]\n",
        "for a in np.arange(0,1,0.0001):\n",
        "    for b in np.arange(0.0,3,0.0005):\n",
        "      chi_sq=0\n",
        "      for i in range(0,len(x_mock)):\n",
        "          y_th=a+b*x_mock[i]\n",
        "          chi_sq1=((y_mock[i]-y_th)/err_y_mock[i])**2\n",
        "          chi_sq=chi_sq+chi_sq1\n",
        "      a_arr.append(a)\n",
        "      b_arr.append(b)\n",
        "      chi_sq_arr.append(chi_sq)\n",
        " #This cell will take around 8 minutes.     "
      ],
      "metadata": {
        "id": "X4pL83osJADB"
      },
      "execution_count": null,
      "outputs": []
    },
    {
      "cell_type": "markdown",
      "source": [
        "#Save Arrays in a Text file"
      ],
      "metadata": {
        "id": "OwXWzTjcZeUD"
      }
    },
    {
      "cell_type": "code",
      "source": [
        "np.savetxt('store_file.txt',)"
      ],
      "metadata": {
        "id": "GxiqzkdJSPUI"
      },
      "execution_count": null,
      "outputs": []
    },
    {
      "cell_type": "code",
      "source": [
        "np.savetxt('/content/drive/My Drive/Colab_Notebooks/10_Conference_Schools/Workshop_Nagpur_2023/a_b_Chi_sq_array_T.txt',\n",
        "           np.transpose([a_arr,b_arr,chi_sq_arr]),fmt='%10.5f',newline='\\n',delimiter=' ')\n",
        " #This cell will take around 4 minutes.     "
      ],
      "metadata": {
        "id": "I2goG53aLf5k"
      },
      "execution_count": null,
      "outputs": []
    },
    {
      "cell_type": "markdown",
      "source": [
        "#Load text file using Pandas "
      ],
      "metadata": {
        "id": "FVsktWAmZK5M"
      }
    },
    {
      "cell_type": "code",
      "source": [
        "df = pd.read_csv ('/content/drive/My Drive/Colab_Notebooks/10_Conference_Schools/Workshop_Nagpur_2023/a_b_Chi_sq_array.txt',\n",
        "                  sep=\"\\s+\",names=[\"a\",\"b\",\"chi2\"])\n"
      ],
      "metadata": {
        "id": "uNo0GDCjMtiS"
      },
      "execution_count": null,
      "outputs": []
    },
    {
      "cell_type": "code",
      "source": [
        "df"
      ],
      "metadata": {
        "colab": {
          "base_uri": "https://localhost:8080/",
          "height": 424
        },
        "id": "MM1Ow6RwZrWL",
        "outputId": "cb538301-22ac-4030-f930-860bb2060ff1"
      },
      "execution_count": null,
      "outputs": [
        {
          "output_type": "execute_result",
          "data": {
            "text/plain": [
              "               a       b        chi2\n",
              "0         0.0000  0.0000  6793.32444\n",
              "1         0.0000  0.0005  6790.02764\n",
              "2         0.0000  0.0010  6786.73164\n",
              "3         0.0000  0.0015  6783.43645\n",
              "4         0.0000  0.0020  6780.14205\n",
              "...          ...     ...         ...\n",
              "59999995  0.9999  2.9975  2783.00050\n",
              "59999996  0.9999  2.9980  2785.09851\n",
              "59999997  0.9999  2.9985  2787.19733\n",
              "59999998  0.9999  2.9990  2789.29695\n",
              "59999999  0.9999  2.9995  2791.39737\n",
              "\n",
              "[60000000 rows x 3 columns]"
            ],
            "text/html": [
              "\n",
              "  <div id=\"df-e14430c0-212d-45cf-b18f-76a4a6d378b7\">\n",
              "    <div class=\"colab-df-container\">\n",
              "      <div>\n",
              "<style scoped>\n",
              "    .dataframe tbody tr th:only-of-type {\n",
              "        vertical-align: middle;\n",
              "    }\n",
              "\n",
              "    .dataframe tbody tr th {\n",
              "        vertical-align: top;\n",
              "    }\n",
              "\n",
              "    .dataframe thead th {\n",
              "        text-align: right;\n",
              "    }\n",
              "</style>\n",
              "<table border=\"1\" class=\"dataframe\">\n",
              "  <thead>\n",
              "    <tr style=\"text-align: right;\">\n",
              "      <th></th>\n",
              "      <th>a</th>\n",
              "      <th>b</th>\n",
              "      <th>chi2</th>\n",
              "    </tr>\n",
              "  </thead>\n",
              "  <tbody>\n",
              "    <tr>\n",
              "      <th>0</th>\n",
              "      <td>0.0000</td>\n",
              "      <td>0.0000</td>\n",
              "      <td>6793.32444</td>\n",
              "    </tr>\n",
              "    <tr>\n",
              "      <th>1</th>\n",
              "      <td>0.0000</td>\n",
              "      <td>0.0005</td>\n",
              "      <td>6790.02764</td>\n",
              "    </tr>\n",
              "    <tr>\n",
              "      <th>2</th>\n",
              "      <td>0.0000</td>\n",
              "      <td>0.0010</td>\n",
              "      <td>6786.73164</td>\n",
              "    </tr>\n",
              "    <tr>\n",
              "      <th>3</th>\n",
              "      <td>0.0000</td>\n",
              "      <td>0.0015</td>\n",
              "      <td>6783.43645</td>\n",
              "    </tr>\n",
              "    <tr>\n",
              "      <th>4</th>\n",
              "      <td>0.0000</td>\n",
              "      <td>0.0020</td>\n",
              "      <td>6780.14205</td>\n",
              "    </tr>\n",
              "    <tr>\n",
              "      <th>...</th>\n",
              "      <td>...</td>\n",
              "      <td>...</td>\n",
              "      <td>...</td>\n",
              "    </tr>\n",
              "    <tr>\n",
              "      <th>59999995</th>\n",
              "      <td>0.9999</td>\n",
              "      <td>2.9975</td>\n",
              "      <td>2783.00050</td>\n",
              "    </tr>\n",
              "    <tr>\n",
              "      <th>59999996</th>\n",
              "      <td>0.9999</td>\n",
              "      <td>2.9980</td>\n",
              "      <td>2785.09851</td>\n",
              "    </tr>\n",
              "    <tr>\n",
              "      <th>59999997</th>\n",
              "      <td>0.9999</td>\n",
              "      <td>2.9985</td>\n",
              "      <td>2787.19733</td>\n",
              "    </tr>\n",
              "    <tr>\n",
              "      <th>59999998</th>\n",
              "      <td>0.9999</td>\n",
              "      <td>2.9990</td>\n",
              "      <td>2789.29695</td>\n",
              "    </tr>\n",
              "    <tr>\n",
              "      <th>59999999</th>\n",
              "      <td>0.9999</td>\n",
              "      <td>2.9995</td>\n",
              "      <td>2791.39737</td>\n",
              "    </tr>\n",
              "  </tbody>\n",
              "</table>\n",
              "<p>60000000 rows × 3 columns</p>\n",
              "</div>\n",
              "      <button class=\"colab-df-convert\" onclick=\"convertToInteractive('df-e14430c0-212d-45cf-b18f-76a4a6d378b7')\"\n",
              "              title=\"Convert this dataframe to an interactive table.\"\n",
              "              style=\"display:none;\">\n",
              "        \n",
              "  <svg xmlns=\"http://www.w3.org/2000/svg\" height=\"24px\"viewBox=\"0 0 24 24\"\n",
              "       width=\"24px\">\n",
              "    <path d=\"M0 0h24v24H0V0z\" fill=\"none\"/>\n",
              "    <path d=\"M18.56 5.44l.94 2.06.94-2.06 2.06-.94-2.06-.94-.94-2.06-.94 2.06-2.06.94zm-11 1L8.5 8.5l.94-2.06 2.06-.94-2.06-.94L8.5 2.5l-.94 2.06-2.06.94zm10 10l.94 2.06.94-2.06 2.06-.94-2.06-.94-.94-2.06-.94 2.06-2.06.94z\"/><path d=\"M17.41 7.96l-1.37-1.37c-.4-.4-.92-.59-1.43-.59-.52 0-1.04.2-1.43.59L10.3 9.45l-7.72 7.72c-.78.78-.78 2.05 0 2.83L4 21.41c.39.39.9.59 1.41.59.51 0 1.02-.2 1.41-.59l7.78-7.78 2.81-2.81c.8-.78.8-2.07 0-2.86zM5.41 20L4 18.59l7.72-7.72 1.47 1.35L5.41 20z\"/>\n",
              "  </svg>\n",
              "      </button>\n",
              "      \n",
              "  <style>\n",
              "    .colab-df-container {\n",
              "      display:flex;\n",
              "      flex-wrap:wrap;\n",
              "      gap: 12px;\n",
              "    }\n",
              "\n",
              "    .colab-df-convert {\n",
              "      background-color: #E8F0FE;\n",
              "      border: none;\n",
              "      border-radius: 50%;\n",
              "      cursor: pointer;\n",
              "      display: none;\n",
              "      fill: #1967D2;\n",
              "      height: 32px;\n",
              "      padding: 0 0 0 0;\n",
              "      width: 32px;\n",
              "    }\n",
              "\n",
              "    .colab-df-convert:hover {\n",
              "      background-color: #E2EBFA;\n",
              "      box-shadow: 0px 1px 2px rgba(60, 64, 67, 0.3), 0px 1px 3px 1px rgba(60, 64, 67, 0.15);\n",
              "      fill: #174EA6;\n",
              "    }\n",
              "\n",
              "    [theme=dark] .colab-df-convert {\n",
              "      background-color: #3B4455;\n",
              "      fill: #D2E3FC;\n",
              "    }\n",
              "\n",
              "    [theme=dark] .colab-df-convert:hover {\n",
              "      background-color: #434B5C;\n",
              "      box-shadow: 0px 1px 3px 1px rgba(0, 0, 0, 0.15);\n",
              "      filter: drop-shadow(0px 1px 2px rgba(0, 0, 0, 0.3));\n",
              "      fill: #FFFFFF;\n",
              "    }\n",
              "  </style>\n",
              "\n",
              "      <script>\n",
              "        const buttonEl =\n",
              "          document.querySelector('#df-e14430c0-212d-45cf-b18f-76a4a6d378b7 button.colab-df-convert');\n",
              "        buttonEl.style.display =\n",
              "          google.colab.kernel.accessAllowed ? 'block' : 'none';\n",
              "\n",
              "        async function convertToInteractive(key) {\n",
              "          const element = document.querySelector('#df-e14430c0-212d-45cf-b18f-76a4a6d378b7');\n",
              "          const dataTable =\n",
              "            await google.colab.kernel.invokeFunction('convertToInteractive',\n",
              "                                                     [key], {});\n",
              "          if (!dataTable) return;\n",
              "\n",
              "          const docLinkHtml = 'Like what you see? Visit the ' +\n",
              "            '<a target=\"_blank\" href=https://colab.research.google.com/notebooks/data_table.ipynb>data table notebook</a>'\n",
              "            + ' to learn more about interactive tables.';\n",
              "          element.innerHTML = '';\n",
              "          dataTable['output_type'] = 'display_data';\n",
              "          await google.colab.output.renderOutput(dataTable, element);\n",
              "          const docLink = document.createElement('div');\n",
              "          docLink.innerHTML = docLinkHtml;\n",
              "          element.appendChild(docLink);\n",
              "        }\n",
              "      </script>\n",
              "    </div>\n",
              "  </div>\n",
              "  "
            ]
          },
          "metadata": {},
          "execution_count": 9
        }
      ]
    },
    {
      "cell_type": "markdown",
      "source": [
        "#Find minimim $\\chi^2$ values"
      ],
      "metadata": {
        "id": "_xXenVM0atCx"
      }
    },
    {
      "cell_type": "code",
      "source": [
        "df_min=df.loc[df['chi2'].idxmin()]\n",
        "df_min"
      ],
      "metadata": {
        "colab": {
          "base_uri": "https://localhost:8080/"
        },
        "id": "z24fTsIXaanU",
        "outputId": "3e5892b1-9bf5-44eb-f191-346a0724276b"
      },
      "execution_count": null,
      "outputs": [
        {
          "output_type": "execute_result",
          "data": {
            "text/plain": [
              "a       0.34090\n",
              "b       1.93150\n",
              "chi2    1.01585\n",
              "Name: 20457863, dtype: float64"
            ]
          },
          "metadata": {},
          "execution_count": 10
        }
      ]
    },
    {
      "cell_type": "markdown",
      "source": [
        "#Estimate Confidence Intervals"
      ],
      "metadata": {
        "id": "C3PVreDBdCOs"
      }
    },
    {
      "cell_type": "markdown",
      "source": [
        "##$68.27\\%$ confidence level"
      ],
      "metadata": {
        "id": "F09tlhPtdI7p"
      }
    },
    {
      "cell_type": "code",
      "source": [
        "df_1_sig = df[(round(df['chi2'],3) ==round (df_min[2],3)+2.3)]\n",
        "df_1_sig"
      ],
      "metadata": {
        "colab": {
          "base_uri": "https://localhost:8080/",
          "height": 424
        },
        "id": "P8rHIB4Qa0oR",
        "outputId": "82e645af-d27e-4988-bc13-0e76fe0b95f5"
      },
      "execution_count": null,
      "outputs": [
        {
          "output_type": "execute_result",
          "data": {
            "text/plain": [
              "               a       b     chi2\n",
              "10617984  0.1769  1.9920  3.31632\n",
              "10623981  0.1770  1.9905  3.31640\n",
              "10623986  0.1770  1.9930  3.31563\n",
              "10629980  0.1771  1.9900  3.31595\n",
              "10635979  0.1772  1.9895  3.31618\n",
              "...          ...     ...      ...\n",
              "30285735  0.5047  1.8675  3.31598\n",
              "30303748  0.5050  1.8740  3.31616\n",
              "30309737  0.5051  1.8685  3.31568\n",
              "30327744  0.5054  1.8720  3.31551\n",
              "30333742  0.5055  1.8710  3.31650\n",
              "\n",
              "[143 rows x 3 columns]"
            ],
            "text/html": [
              "\n",
              "  <div id=\"df-6e2a69f6-a636-49a8-83d5-cc379f93561b\">\n",
              "    <div class=\"colab-df-container\">\n",
              "      <div>\n",
              "<style scoped>\n",
              "    .dataframe tbody tr th:only-of-type {\n",
              "        vertical-align: middle;\n",
              "    }\n",
              "\n",
              "    .dataframe tbody tr th {\n",
              "        vertical-align: top;\n",
              "    }\n",
              "\n",
              "    .dataframe thead th {\n",
              "        text-align: right;\n",
              "    }\n",
              "</style>\n",
              "<table border=\"1\" class=\"dataframe\">\n",
              "  <thead>\n",
              "    <tr style=\"text-align: right;\">\n",
              "      <th></th>\n",
              "      <th>a</th>\n",
              "      <th>b</th>\n",
              "      <th>chi2</th>\n",
              "    </tr>\n",
              "  </thead>\n",
              "  <tbody>\n",
              "    <tr>\n",
              "      <th>10617984</th>\n",
              "      <td>0.1769</td>\n",
              "      <td>1.9920</td>\n",
              "      <td>3.31632</td>\n",
              "    </tr>\n",
              "    <tr>\n",
              "      <th>10623981</th>\n",
              "      <td>0.1770</td>\n",
              "      <td>1.9905</td>\n",
              "      <td>3.31640</td>\n",
              "    </tr>\n",
              "    <tr>\n",
              "      <th>10623986</th>\n",
              "      <td>0.1770</td>\n",
              "      <td>1.9930</td>\n",
              "      <td>3.31563</td>\n",
              "    </tr>\n",
              "    <tr>\n",
              "      <th>10629980</th>\n",
              "      <td>0.1771</td>\n",
              "      <td>1.9900</td>\n",
              "      <td>3.31595</td>\n",
              "    </tr>\n",
              "    <tr>\n",
              "      <th>10635979</th>\n",
              "      <td>0.1772</td>\n",
              "      <td>1.9895</td>\n",
              "      <td>3.31618</td>\n",
              "    </tr>\n",
              "    <tr>\n",
              "      <th>...</th>\n",
              "      <td>...</td>\n",
              "      <td>...</td>\n",
              "      <td>...</td>\n",
              "    </tr>\n",
              "    <tr>\n",
              "      <th>30285735</th>\n",
              "      <td>0.5047</td>\n",
              "      <td>1.8675</td>\n",
              "      <td>3.31598</td>\n",
              "    </tr>\n",
              "    <tr>\n",
              "      <th>30303748</th>\n",
              "      <td>0.5050</td>\n",
              "      <td>1.8740</td>\n",
              "      <td>3.31616</td>\n",
              "    </tr>\n",
              "    <tr>\n",
              "      <th>30309737</th>\n",
              "      <td>0.5051</td>\n",
              "      <td>1.8685</td>\n",
              "      <td>3.31568</td>\n",
              "    </tr>\n",
              "    <tr>\n",
              "      <th>30327744</th>\n",
              "      <td>0.5054</td>\n",
              "      <td>1.8720</td>\n",
              "      <td>3.31551</td>\n",
              "    </tr>\n",
              "    <tr>\n",
              "      <th>30333742</th>\n",
              "      <td>0.5055</td>\n",
              "      <td>1.8710</td>\n",
              "      <td>3.31650</td>\n",
              "    </tr>\n",
              "  </tbody>\n",
              "</table>\n",
              "<p>143 rows × 3 columns</p>\n",
              "</div>\n",
              "      <button class=\"colab-df-convert\" onclick=\"convertToInteractive('df-6e2a69f6-a636-49a8-83d5-cc379f93561b')\"\n",
              "              title=\"Convert this dataframe to an interactive table.\"\n",
              "              style=\"display:none;\">\n",
              "        \n",
              "  <svg xmlns=\"http://www.w3.org/2000/svg\" height=\"24px\"viewBox=\"0 0 24 24\"\n",
              "       width=\"24px\">\n",
              "    <path d=\"M0 0h24v24H0V0z\" fill=\"none\"/>\n",
              "    <path d=\"M18.56 5.44l.94 2.06.94-2.06 2.06-.94-2.06-.94-.94-2.06-.94 2.06-2.06.94zm-11 1L8.5 8.5l.94-2.06 2.06-.94-2.06-.94L8.5 2.5l-.94 2.06-2.06.94zm10 10l.94 2.06.94-2.06 2.06-.94-2.06-.94-.94-2.06-.94 2.06-2.06.94z\"/><path d=\"M17.41 7.96l-1.37-1.37c-.4-.4-.92-.59-1.43-.59-.52 0-1.04.2-1.43.59L10.3 9.45l-7.72 7.72c-.78.78-.78 2.05 0 2.83L4 21.41c.39.39.9.59 1.41.59.51 0 1.02-.2 1.41-.59l7.78-7.78 2.81-2.81c.8-.78.8-2.07 0-2.86zM5.41 20L4 18.59l7.72-7.72 1.47 1.35L5.41 20z\"/>\n",
              "  </svg>\n",
              "      </button>\n",
              "      \n",
              "  <style>\n",
              "    .colab-df-container {\n",
              "      display:flex;\n",
              "      flex-wrap:wrap;\n",
              "      gap: 12px;\n",
              "    }\n",
              "\n",
              "    .colab-df-convert {\n",
              "      background-color: #E8F0FE;\n",
              "      border: none;\n",
              "      border-radius: 50%;\n",
              "      cursor: pointer;\n",
              "      display: none;\n",
              "      fill: #1967D2;\n",
              "      height: 32px;\n",
              "      padding: 0 0 0 0;\n",
              "      width: 32px;\n",
              "    }\n",
              "\n",
              "    .colab-df-convert:hover {\n",
              "      background-color: #E2EBFA;\n",
              "      box-shadow: 0px 1px 2px rgba(60, 64, 67, 0.3), 0px 1px 3px 1px rgba(60, 64, 67, 0.15);\n",
              "      fill: #174EA6;\n",
              "    }\n",
              "\n",
              "    [theme=dark] .colab-df-convert {\n",
              "      background-color: #3B4455;\n",
              "      fill: #D2E3FC;\n",
              "    }\n",
              "\n",
              "    [theme=dark] .colab-df-convert:hover {\n",
              "      background-color: #434B5C;\n",
              "      box-shadow: 0px 1px 3px 1px rgba(0, 0, 0, 0.15);\n",
              "      filter: drop-shadow(0px 1px 2px rgba(0, 0, 0, 0.3));\n",
              "      fill: #FFFFFF;\n",
              "    }\n",
              "  </style>\n",
              "\n",
              "      <script>\n",
              "        const buttonEl =\n",
              "          document.querySelector('#df-6e2a69f6-a636-49a8-83d5-cc379f93561b button.colab-df-convert');\n",
              "        buttonEl.style.display =\n",
              "          google.colab.kernel.accessAllowed ? 'block' : 'none';\n",
              "\n",
              "        async function convertToInteractive(key) {\n",
              "          const element = document.querySelector('#df-6e2a69f6-a636-49a8-83d5-cc379f93561b');\n",
              "          const dataTable =\n",
              "            await google.colab.kernel.invokeFunction('convertToInteractive',\n",
              "                                                     [key], {});\n",
              "          if (!dataTable) return;\n",
              "\n",
              "          const docLinkHtml = 'Like what you see? Visit the ' +\n",
              "            '<a target=\"_blank\" href=https://colab.research.google.com/notebooks/data_table.ipynb>data table notebook</a>'\n",
              "            + ' to learn more about interactive tables.';\n",
              "          element.innerHTML = '';\n",
              "          dataTable['output_type'] = 'display_data';\n",
              "          await google.colab.output.renderOutput(dataTable, element);\n",
              "          const docLink = document.createElement('div');\n",
              "          docLink.innerHTML = docLinkHtml;\n",
              "          element.appendChild(docLink);\n",
              "        }\n",
              "      </script>\n",
              "    </div>\n",
              "  </div>\n",
              "  "
            ]
          },
          "metadata": {},
          "execution_count": 13
        }
      ]
    },
    {
      "cell_type": "markdown",
      "source": [
        "##Plot $68.27\\%$ Confidence Level"
      ],
      "metadata": {
        "id": "v4dKFCLRoe5O"
      }
    },
    {
      "cell_type": "code",
      "source": [
        "plt.plot(df_1_sig['a'],df_1_sig['b'],'b.')"
      ],
      "metadata": {
        "colab": {
          "base_uri": "https://localhost:8080/",
          "height": 447
        },
        "id": "zvYF03iYdR9n",
        "outputId": "10b6730b-9d9e-4e37-cbb8-ec1da9448b65"
      },
      "execution_count": null,
      "outputs": [
        {
          "output_type": "execute_result",
          "data": {
            "text/plain": [
              "[<matplotlib.lines.Line2D at 0x7f109b7e9bb0>]"
            ]
          },
          "metadata": {},
          "execution_count": 17
        },
        {
          "output_type": "display_data",
          "data": {
            "text/plain": [
              "<Figure size 640x480 with 1 Axes>"
            ],
            "image/png": "[encoded data removed]"
          },
          "metadata": {}
        }
      ]
    },
    {
      "cell_type": "code",
      "source": [],
      "metadata": {
        "id": "ruS2rBmFn7rB"
      },
      "execution_count": null,
      "outputs": []
    },
    {
      "cell_type": "markdown",
      "source": [
        "##$95.45\\%$ confidence level"
      ],
      "metadata": {
        "id": "8W1Rjer_olo5"
      }
    },
    {
      "cell_type": "code",
      "source": [
        "df_2_sig = df[(round(df['chi2'],3) ==round (df_min[2],3)+6.18)]\n",
        "df_2_sig"
      ],
      "metadata": {
        "colab": {
          "base_uri": "https://localhost:8080/",
          "height": 424
        },
        "outputId": "a4cb41b4-c1bc-4e0b-a46b-1feca3f479b1",
        "id": "vEtDKq56olo5"
      },
      "execution_count": null,
      "outputs": [
        {
          "output_type": "execute_result",
          "data": {
            "text/plain": [
              "               a       b     chi2\n",
              "4318061   0.0719  2.0305  7.19627\n",
              "4336055   0.0722  2.0275  7.19628\n",
              "4342054   0.0723  2.0270  7.19639\n",
              "4366051   0.0727  2.0255  7.19573\n",
              "4366070   0.0727  2.0350  7.19580\n",
              "...          ...     ...      ...\n",
              "36495650  0.6082  1.8250  7.19622\n",
              "36513681  0.6085  1.8405  7.19589\n",
              "36561677  0.6093  1.8385  7.19591\n",
              "36615659  0.6102  1.8295  7.19581\n",
              "36621660  0.6103  1.8300  7.19596\n",
              "\n",
              "[179 rows x 3 columns]"
            ],
            "text/html": [
              "\n",
              "  <div id=\"df-90a82479-ea7e-4c98-b476-dbf085b1b48d\">\n",
              "    <div class=\"colab-df-container\">\n",
              "      <div>\n",
              "<style scoped>\n",
              "    .dataframe tbody tr th:only-of-type {\n",
              "        vertical-align: middle;\n",
              "    }\n",
              "\n",
              "    .dataframe tbody tr th {\n",
              "        vertical-align: top;\n",
              "    }\n",
              "\n",
              "    .dataframe thead th {\n",
              "        text-align: right;\n",
              "    }\n",
              "</style>\n",
              "<table border=\"1\" class=\"dataframe\">\n",
              "  <thead>\n",
              "    <tr style=\"text-align: right;\">\n",
              "      <th></th>\n",
              "      <th>a</th>\n",
              "      <th>b</th>\n",
              "      <th>chi2</th>\n",
              "    </tr>\n",
              "  </thead>\n",
              "  <tbody>\n",
              "    <tr>\n",
              "      <th>4318061</th>\n",
              "      <td>0.0719</td>\n",
              "      <td>2.0305</td>\n",
              "      <td>7.19627</td>\n",
              "    </tr>\n",
              "    <tr>\n",
              "      <th>4336055</th>\n",
              "      <td>0.0722</td>\n",
              "      <td>2.0275</td>\n",
              "      <td>7.19628</td>\n",
              "    </tr>\n",
              "    <tr>\n",
              "      <th>4342054</th>\n",
              "      <td>0.0723</td>\n",
              "      <td>2.0270</td>\n",
              "      <td>7.19639</td>\n",
              "    </tr>\n",
              "    <tr>\n",
              "      <th>4366051</th>\n",
              "      <td>0.0727</td>\n",
              "      <td>2.0255</td>\n",
              "      <td>7.19573</td>\n",
              "    </tr>\n",
              "    <tr>\n",
              "      <th>4366070</th>\n",
              "      <td>0.0727</td>\n",
              "      <td>2.0350</td>\n",
              "      <td>7.19580</td>\n",
              "    </tr>\n",
              "    <tr>\n",
              "      <th>...</th>\n",
              "      <td>...</td>\n",
              "      <td>...</td>\n",
              "      <td>...</td>\n",
              "    </tr>\n",
              "    <tr>\n",
              "      <th>36495650</th>\n",
              "      <td>0.6082</td>\n",
              "      <td>1.8250</td>\n",
              "      <td>7.19622</td>\n",
              "    </tr>\n",
              "    <tr>\n",
              "      <th>36513681</th>\n",
              "      <td>0.6085</td>\n",
              "      <td>1.8405</td>\n",
              "      <td>7.19589</td>\n",
              "    </tr>\n",
              "    <tr>\n",
              "      <th>36561677</th>\n",
              "      <td>0.6093</td>\n",
              "      <td>1.8385</td>\n",
              "      <td>7.19591</td>\n",
              "    </tr>\n",
              "    <tr>\n",
              "      <th>36615659</th>\n",
              "      <td>0.6102</td>\n",
              "      <td>1.8295</td>\n",
              "      <td>7.19581</td>\n",
              "    </tr>\n",
              "    <tr>\n",
              "      <th>36621660</th>\n",
              "      <td>0.6103</td>\n",
              "      <td>1.8300</td>\n",
              "      <td>7.19596</td>\n",
              "    </tr>\n",
              "  </tbody>\n",
              "</table>\n",
              "<p>179 rows × 3 columns</p>\n",
              "</div>\n",
              "      <button class=\"colab-df-convert\" onclick=\"convertToInteractive('df-90a82479-ea7e-4c98-b476-dbf085b1b48d')\"\n",
              "              title=\"Convert this dataframe to an interactive table.\"\n",
              "              style=\"display:none;\">\n",
              "        \n",
              "  <svg xmlns=\"http://www.w3.org/2000/svg\" height=\"24px\"viewBox=\"0 0 24 24\"\n",
              "       width=\"24px\">\n",
              "    <path d=\"M0 0h24v24H0V0z\" fill=\"none\"/>\n",
              "    <path d=\"M18.56 5.44l.94 2.06.94-2.06 2.06-.94-2.06-.94-.94-2.06-.94 2.06-2.06.94zm-11 1L8.5 8.5l.94-2.06 2.06-.94-2.06-.94L8.5 2.5l-.94 2.06-2.06.94zm10 10l.94 2.06.94-2.06 2.06-.94-2.06-.94-.94-2.06-.94 2.06-2.06.94z\"/><path d=\"M17.41 7.96l-1.37-1.37c-.4-.4-.92-.59-1.43-.59-.52 0-1.04.2-1.43.59L10.3 9.45l-7.72 7.72c-.78.78-.78 2.05 0 2.83L4 21.41c.39.39.9.59 1.41.59.51 0 1.02-.2 1.41-.59l7.78-7.78 2.81-2.81c.8-.78.8-2.07 0-2.86zM5.41 20L4 18.59l7.72-7.72 1.47 1.35L5.41 20z\"/>\n",
              "  </svg>\n",
              "      </button>\n",
              "      \n",
              "  <style>\n",
              "    .colab-df-container {\n",
              "      display:flex;\n",
              "      flex-wrap:wrap;\n",
              "      gap: 12px;\n",
              "    }\n",
              "\n",
              "    .colab-df-convert {\n",
              "      background-color: #E8F0FE;\n",
              "      border: none;\n",
              "      border-radius: 50%;\n",
              "      cursor: pointer;\n",
              "      display: none;\n",
              "      fill: #1967D2;\n",
              "      height: 32px;\n",
              "      padding: 0 0 0 0;\n",
              "      width: 32px;\n",
              "    }\n",
              "\n",
              "    .colab-df-convert:hover {\n",
              "      background-color: #E2EBFA;\n",
              "      box-shadow: 0px 1px 2px rgba(60, 64, 67, 0.3), 0px 1px 3px 1px rgba(60, 64, 67, 0.15);\n",
              "      fill: #174EA6;\n",
              "    }\n",
              "\n",
              "    [theme=dark] .colab-df-convert {\n",
              "      background-color: #3B4455;\n",
              "      fill: #D2E3FC;\n",
              "    }\n",
              "\n",
              "    [theme=dark] .colab-df-convert:hover {\n",
              "      background-color: #434B5C;\n",
              "      box-shadow: 0px 1px 3px 1px rgba(0, 0, 0, 0.15);\n",
              "      filter: drop-shadow(0px 1px 2px rgba(0, 0, 0, 0.3));\n",
              "      fill: #FFFFFF;\n",
              "    }\n",
              "  </style>\n",
              "\n",
              "      <script>\n",
              "        const buttonEl =\n",
              "          document.querySelector('#df-90a82479-ea7e-4c98-b476-dbf085b1b48d button.colab-df-convert');\n",
              "        buttonEl.style.display =\n",
              "          google.colab.kernel.accessAllowed ? 'block' : 'none';\n",
              "\n",
              "        async function convertToInteractive(key) {\n",
              "          const element = document.querySelector('#df-90a82479-ea7e-4c98-b476-dbf085b1b48d');\n",
              "          const dataTable =\n",
              "            await google.colab.kernel.invokeFunction('convertToInteractive',\n",
              "                                                     [key], {});\n",
              "          if (!dataTable) return;\n",
              "\n",
              "          const docLinkHtml = 'Like what you see? Visit the ' +\n",
              "            '<a target=\"_blank\" href=https://colab.research.google.com/notebooks/data_table.ipynb>data table notebook</a>'\n",
              "            + ' to learn more about interactive tables.';\n",
              "          element.innerHTML = '';\n",
              "          dataTable['output_type'] = 'display_data';\n",
              "          await google.colab.output.renderOutput(dataTable, element);\n",
              "          const docLink = document.createElement('div');\n",
              "          docLink.innerHTML = docLinkHtml;\n",
              "          element.appendChild(docLink);\n",
              "        }\n",
              "      </script>\n",
              "    </div>\n",
              "  </div>\n",
              "  "
            ]
          },
          "metadata": {},
          "execution_count": 15
        }
      ]
    },
    {
      "cell_type": "markdown",
      "source": [
        "##Plot $95.45\\%$ Confidence Level"
      ],
      "metadata": {
        "id": "ATOPK9g9olo6"
      }
    },
    {
      "cell_type": "code",
      "source": [
        "plt.plot(df_2_sig['a'],df_2_sig['b'],'r.')"
      ],
      "metadata": {
        "colab": {
          "base_uri": "https://localhost:8080/",
          "height": 447
        },
        "outputId": "af70f47d-10da-4d5f-b7c2-23172d7be411",
        "id": "WwpNvnXbolo6"
      },
      "execution_count": null,
      "outputs": [
        {
          "output_type": "execute_result",
          "data": {
            "text/plain": [
              "[<matplotlib.lines.Line2D at 0x7f109b76c5b0>]"
            ]
          },
          "metadata": {},
          "execution_count": 18
        },
        {
          "output_type": "display_data",
          "data": {
            "text/plain": [
              "<Figure size 640x480 with 1 Axes>"
            ],
            "image/png": "[encoded data removed]"
          },
          "metadata": {}
        }
      ]
    },
    {
      "cell_type": "code",
      "source": [],
      "metadata": {
        "id": "JsZK_rR6oz3q"
      },
      "execution_count": null,
      "outputs": []
    },
    {
      "cell_type": "markdown",
      "source": [
        "##$99.70\\%$ confidence level"
      ],
      "metadata": {
        "id": "wUkxFTfQo_z_"
      }
    },
    {
      "cell_type": "code",
      "source": [
        "df_3_sig = df[(round(df['chi2'],3) ==round (df_min[2],3)+11.83)]\n",
        "df_3_sig"
      ],
      "metadata": {
        "colab": {
          "base_uri": "https://localhost:8080/",
          "height": 424
        },
        "outputId": "40c68d73-191d-4e2b-f696-2d375e82f87b",
        "id": "uCiTkvyjo_z_"
      },
      "execution_count": null,
      "outputs": [
        {
          "output_type": "execute_result",
          "data": {
            "text/plain": [
              "               a       b      chi2\n",
              "106042    0.0017  2.0210  12.84586\n",
              "244038    0.0040  2.0190  12.84618\n",
              "478185    0.0079  2.0925  12.84582\n",
              "898186    0.0149  2.0930  12.84628\n",
              "904186    0.0150  2.0930  12.84562\n",
              "...          ...     ...       ...\n",
              "42723573  0.7120  1.7865  12.84579\n",
              "42807581  0.7134  1.7905  12.84600\n",
              "42813582  0.7135  1.7910  12.84618\n",
              "42825585  0.7137  1.7925  12.84612\n",
              "42825592  0.7137  1.7960  12.84622\n",
              "\n",
              "[127 rows x 3 columns]"
            ],
            "text/html": [
              "\n",
              "  <div id=\"df-ba99e5e2-a9da-480f-a7f3-769461091cde\">\n",
              "    <div class=\"colab-df-container\">\n",
              "      <div>\n",
              "<style scoped>\n",
              "    .dataframe tbody tr th:only-of-type {\n",
              "        vertical-align: middle;\n",
              "    }\n",
              "\n",
              "    .dataframe tbody tr th {\n",
              "        vertical-align: top;\n",
              "    }\n",
              "\n",
              "    .dataframe thead th {\n",
              "        text-align: right;\n",
              "    }\n",
              "</style>\n",
              "<table border=\"1\" class=\"dataframe\">\n",
              "  <thead>\n",
              "    <tr style=\"text-align: right;\">\n",
              "      <th></th>\n",
              "      <th>a</th>\n",
              "      <th>b</th>\n",
              "      <th>chi2</th>\n",
              "    </tr>\n",
              "  </thead>\n",
              "  <tbody>\n",
              "    <tr>\n",
              "      <th>106042</th>\n",
              "      <td>0.0017</td>\n",
              "      <td>2.0210</td>\n",
              "      <td>12.84586</td>\n",
              "    </tr>\n",
              "    <tr>\n",
              "      <th>244038</th>\n",
              "      <td>0.0040</td>\n",
              "      <td>2.0190</td>\n",
              "      <td>12.84618</td>\n",
              "    </tr>\n",
              "    <tr>\n",
              "      <th>478185</th>\n",
              "      <td>0.0079</td>\n",
              "      <td>2.0925</td>\n",
              "      <td>12.84582</td>\n",
              "    </tr>\n",
              "    <tr>\n",
              "      <th>898186</th>\n",
              "      <td>0.0149</td>\n",
              "      <td>2.0930</td>\n",
              "      <td>12.84628</td>\n",
              "    </tr>\n",
              "    <tr>\n",
              "      <th>904186</th>\n",
              "      <td>0.0150</td>\n",
              "      <td>2.0930</td>\n",
              "      <td>12.84562</td>\n",
              "    </tr>\n",
              "    <tr>\n",
              "      <th>...</th>\n",
              "      <td>...</td>\n",
              "      <td>...</td>\n",
              "      <td>...</td>\n",
              "    </tr>\n",
              "    <tr>\n",
              "      <th>42723573</th>\n",
              "      <td>0.7120</td>\n",
              "      <td>1.7865</td>\n",
              "      <td>12.84579</td>\n",
              "    </tr>\n",
              "    <tr>\n",
              "      <th>42807581</th>\n",
              "      <td>0.7134</td>\n",
              "      <td>1.7905</td>\n",
              "      <td>12.84600</td>\n",
              "    </tr>\n",
              "    <tr>\n",
              "      <th>42813582</th>\n",
              "      <td>0.7135</td>\n",
              "      <td>1.7910</td>\n",
              "      <td>12.84618</td>\n",
              "    </tr>\n",
              "    <tr>\n",
              "      <th>42825585</th>\n",
              "      <td>0.7137</td>\n",
              "      <td>1.7925</td>\n",
              "      <td>12.84612</td>\n",
              "    </tr>\n",
              "    <tr>\n",
              "      <th>42825592</th>\n",
              "      <td>0.7137</td>\n",
              "      <td>1.7960</td>\n",
              "      <td>12.84622</td>\n",
              "    </tr>\n",
              "  </tbody>\n",
              "</table>\n",
              "<p>127 rows × 3 columns</p>\n",
              "</div>\n",
              "      <button class=\"colab-df-convert\" onclick=\"convertToInteractive('df-ba99e5e2-a9da-480f-a7f3-769461091cde')\"\n",
              "              title=\"Convert this dataframe to an interactive table.\"\n",
              "              style=\"display:none;\">\n",
              "        \n",
              "  <svg xmlns=\"http://www.w3.org/2000/svg\" height=\"24px\"viewBox=\"0 0 24 24\"\n",
              "       width=\"24px\">\n",
              "    <path d=\"M0 0h24v24H0V0z\" fill=\"none\"/>\n",
              "    <path d=\"M18.56 5.44l.94 2.06.94-2.06 2.06-.94-2.06-.94-.94-2.06-.94 2.06-2.06.94zm-11 1L8.5 8.5l.94-2.06 2.06-.94-2.06-.94L8.5 2.5l-.94 2.06-2.06.94zm10 10l.94 2.06.94-2.06 2.06-.94-2.06-.94-.94-2.06-.94 2.06-2.06.94z\"/><path d=\"M17.41 7.96l-1.37-1.37c-.4-.4-.92-.59-1.43-.59-.52 0-1.04.2-1.43.59L10.3 9.45l-7.72 7.72c-.78.78-.78 2.05 0 2.83L4 21.41c.39.39.9.59 1.41.59.51 0 1.02-.2 1.41-.59l7.78-7.78 2.81-2.81c.8-.78.8-2.07 0-2.86zM5.41 20L4 18.59l7.72-7.72 1.47 1.35L5.41 20z\"/>\n",
              "  </svg>\n",
              "      </button>\n",
              "      \n",
              "  <style>\n",
              "    .colab-df-container {\n",
              "      display:flex;\n",
              "      flex-wrap:wrap;\n",
              "      gap: 12px;\n",
              "    }\n",
              "\n",
              "    .colab-df-convert {\n",
              "      background-color: #E8F0FE;\n",
              "      border: none;\n",
              "      border-radius: 50%;\n",
              "      cursor: pointer;\n",
              "      display: none;\n",
              "      fill: #1967D2;\n",
              "      height: 32px;\n",
              "      padding: 0 0 0 0;\n",
              "      width: 32px;\n",
              "    }\n",
              "\n",
              "    .colab-df-convert:hover {\n",
              "      background-color: #E2EBFA;\n",
              "      box-shadow: 0px 1px 2px rgba(60, 64, 67, 0.3), 0px 1px 3px 1px rgba(60, 64, 67, 0.15);\n",
              "      fill: #174EA6;\n",
              "    }\n",
              "\n",
              "    [theme=dark] .colab-df-convert {\n",
              "      background-color: #3B4455;\n",
              "      fill: #D2E3FC;\n",
              "    }\n",
              "\n",
              "    [theme=dark] .colab-df-convert:hover {\n",
              "      background-color: #434B5C;\n",
              "      box-shadow: 0px 1px 3px 1px rgba(0, 0, 0, 0.15);\n",
              "      filter: drop-shadow(0px 1px 2px rgba(0, 0, 0, 0.3));\n",
              "      fill: #FFFFFF;\n",
              "    }\n",
              "  </style>\n",
              "\n",
              "      <script>\n",
              "        const buttonEl =\n",
              "          document.querySelector('#df-ba99e5e2-a9da-480f-a7f3-769461091cde button.colab-df-convert');\n",
              "        buttonEl.style.display =\n",
              "          google.colab.kernel.accessAllowed ? 'block' : 'none';\n",
              "\n",
              "        async function convertToInteractive(key) {\n",
              "          const element = document.querySelector('#df-ba99e5e2-a9da-480f-a7f3-769461091cde');\n",
              "          const dataTable =\n",
              "            await google.colab.kernel.invokeFunction('convertToInteractive',\n",
              "                                                     [key], {});\n",
              "          if (!dataTable) return;\n",
              "\n",
              "          const docLinkHtml = 'Like what you see? Visit the ' +\n",
              "            '<a target=\"_blank\" href=https://colab.research.google.com/notebooks/data_table.ipynb>data table notebook</a>'\n",
              "            + ' to learn more about interactive tables.';\n",
              "          element.innerHTML = '';\n",
              "          dataTable['output_type'] = 'display_data';\n",
              "          await google.colab.output.renderOutput(dataTable, element);\n",
              "          const docLink = document.createElement('div');\n",
              "          docLink.innerHTML = docLinkHtml;\n",
              "          element.appendChild(docLink);\n",
              "        }\n",
              "      </script>\n",
              "    </div>\n",
              "  </div>\n",
              "  "
            ]
          },
          "metadata": {},
          "execution_count": 19
        }
      ]
    },
    {
      "cell_type": "markdown",
      "source": [
        "##Plot $99.7\\%$ Confidence Level"
      ],
      "metadata": {
        "id": "zIhrqvNho_0A"
      }
    },
    {
      "cell_type": "code",
      "source": [
        "plt.plot(df_3_sig['a'],df_3_sig['b'],'g.')"
      ],
      "metadata": {
        "colab": {
          "base_uri": "https://localhost:8080/",
          "height": 447
        },
        "outputId": "a5b8bfea-cba1-4e55-ce20-5d8711aa42d3",
        "id": "u-dckpBXo_0A"
      },
      "execution_count": null,
      "outputs": [
        {
          "output_type": "execute_result",
          "data": {
            "text/plain": [
              "[<matplotlib.lines.Line2D at 0x7f109b6ba640>]"
            ]
          },
          "metadata": {},
          "execution_count": 20
        },
        {
          "output_type": "display_data",
          "data": {
            "text/plain": [
              "<Figure size 640x480 with 1 Axes>"
            ],
            "image/png": "[encoded data removed]"
          },
          "metadata": {}
        }
      ]
    },
    {
      "cell_type": "markdown",
      "source": [
        "#Final Output"
      ],
      "metadata": {
        "id": "ya8baPUBqOBq"
      }
    },
    {
      "cell_type": "code",
      "source": [
        "plt.xlabel('a')\n",
        "plt.ylabel(\"b\")\n",
        "plt.plot(df_1_sig['a'], df_1_sig['b'],'b.',label='$68.27\\%$ confidence level contour')\n",
        "plt.plot(df_2_sig['a'], df_2_sig['b'],'r.',label='$95.47\\%$ confidence level contour')\n",
        "plt.plot(df_3_sig['a'], df_3_sig['b'],'g.',label='$99.70\\%$ confidence level contour')\n",
        "plt.legend(loc=\"upper right\")\n",
        "plt.annotate(\"$\\chi^2_{\\mathrm{min}}$\", xy=(df_min[0],df_min[1]), xytext=(0.35, 1.783), arrowprops=dict(arrowstyle=\"->\"))\n",
        "plt.tight_layout()"
      ],
      "metadata": {
        "colab": {
          "base_uri": "https://localhost:8080/",
          "height": 486
        },
        "id": "J1UNtUIxp_ds",
        "outputId": "a136ccad-e033-445c-c867-27718c9b053d"
      },
      "execution_count": null,
      "outputs": [
        {
          "output_type": "display_data",
          "data": {
            "text/plain": [
              "<Figure size 640x480 with 1 Axes>"
            ],
            "image/png": "[encoded data removed]"
          },
          "metadata": {}
        }
      ]
    },
    {
      "cell_type": "markdown",
      "source": [
        "#Least Square fitting by using **lmfit**"
      ],
      "metadata": {
        "id": "6zHkw-gslvxI"
      }
    },
    {
      "cell_type": "code",
      "source": [
        "!pip install lmfit"
      ],
      "metadata": {
        "colab": {
          "base_uri": "https://localhost:8080/"
        },
        "id": "d4P8rmCtqgwV",
        "outputId": "28e03925-9ff8-49d2-ddf8-53ff554d4552"
      },
      "execution_count": null,
      "outputs": [
        {
          "output_type": "stream",
          "name": "stdout",
          "text": [
            "Looking in indexes: https://pypi.org/simple, https://us-python.pkg.dev/colab-wheels/public/simple/\n",
            "Collecting lmfit\n",
            "  Downloading lmfit-1.1.0-py3-none-any.whl (90 kB)\n",
            "\u001b[2K     \u001b[90m━━━━━━━━━━━━━━━━━━━━━━━━━━━━━━━━━━━━━━━━\u001b[0m \u001b[32m90.4/90.4 KB\u001b[0m \u001b[31m2.2 MB/s\u001b[0m eta \u001b[36m0:00:00\u001b[0m\n",
            "\u001b[?25hRequirement already satisfied: numpy>=1.19 in /usr/local/lib/python3.9/dist-packages (from lmfit) (1.22.4)\n",
            "Collecting asteval>=0.9.28\n",
            "  Downloading asteval-0.9.29-py3-none-any.whl (18 kB)\n",
            "Requirement already satisfied: scipy>=1.6 in /usr/local/lib/python3.9/dist-packages (from lmfit) (1.10.1)\n",
            "Collecting uncertainties>=3.1.4\n",
            "  Downloading uncertainties-3.1.7-py2.py3-none-any.whl (98 kB)\n",
            "\u001b[2K     \u001b[90m━━━━━━━━━━━━━━━━━━━━━━━━━━━━━━━━━━━━━━━━\u001b[0m \u001b[32m98.4/98.4 KB\u001b[0m \u001b[31m7.2 MB/s\u001b[0m eta \u001b[36m0:00:00\u001b[0m\n",
            "\u001b[?25hRequirement already satisfied: future in /usr/local/lib/python3.9/dist-packages (from uncertainties>=3.1.4->lmfit) (0.18.3)\n",
            "Installing collected packages: uncertainties, asteval, lmfit\n",
            "Successfully installed asteval-0.9.29 lmfit-1.1.0 uncertainties-3.1.7\n"
          ]
        }
      ]
    },
    {
      "cell_type": "code",
      "source": [
        "import numpy as np\n",
        "import matplotlib.pyplot as plt\n",
        "from lmfit.models import PolynomialModel\n",
        "from lmfit.models import ExpressionModel\n",
        "\n",
        "x=np.array((1.0,2.0,3.0,4.0,5.0))\n",
        "y=np.array((2.3,4.1,6.2,8.1,10.0))\n",
        "yerr=np.array((0.08, 0.12, 0.2 , 0.16, 0.28))\n",
        "\n",
        "mod = ExpressionModel('(a+b*x)')\n",
        "pars = mod.make_params(c0=0, c1=0) #initial points for parameters\n",
        "result = mod.fit(y, pars, x=x, weights=1.0/yerr**2)\n",
        "print(result.fit_report())"
      ],
      "metadata": {
        "colab": {
          "base_uri": "https://localhost:8080/"
        },
        "id": "xHaYVix0l0Fw",
        "outputId": "4f6929d4-b504-4c63-b17a-b63e7b4400b8"
      },
      "execution_count": null,
      "outputs": [
        {
          "output_type": "stream",
          "name": "stdout",
          "text": [
            "[[Model]]\n",
            "    Model(_eval)\n",
            "[[Fit Statistics]]\n",
            "    # fitting method   = leastsq\n",
            "    # function evals   = 13\n",
            "    # data points      = 5\n",
            "    # variables        = 2\n",
            "    chi-square         = 66.0381591\n",
            "    reduced chi-square = 22.0127197\n",
            "    Akaike info crit   = 16.9039742\n",
            "    Bayesian info crit = 16.1228500\n",
            "    R-squared          = -0.75390840\n",
            "[[Variables]]\n",
            "    c0:  0.37435540 +/- 0.05261498 (14.05%) (init = 0)\n",
            "    c1:  1.91302639 +/- 0.03350356 (1.75%) (init = 0)\n",
            "[[Correlations]] (unreported correlations are < 0.100)\n",
            "    C(c0, c1) = -0.865\n"
          ]
        }
      ]
    },
    {
      "cell_type": "code",
      "source": [
        "import numpy as np\n",
        "import lmfit\n",
        "\n",
        "# Define the model\n",
        "def my_model(x, c0, c1):\n",
        "    return (c0 +c1* x)\n",
        "\n",
        "# Define the data\n",
        "x = np.array((1.0, 2.0, 3.0, 4.0, 5.0))\n",
        "y = np.array((2.3, 4.1, 6.2, 8.1, 10.0))\n",
        "yerr = np.array((0.08, 0.12, 0.2, 0.16, 0.28))\n",
        "\n",
        "# Create a model object and set initial parameter values\n",
        "mod = lmfit.Model(my_model)\n",
        "params = mod.make_params(c0=1, c1=1)\n",
        "\n",
        "# Fit the model to the data\n",
        "result = mod.fit(y, params, x=x, weights=1/yerr)\n",
        "\n",
        "# Print the fit report\n",
        "print(result.fit_report())\n",
        "\n"
      ],
      "metadata": {
        "colab": {
          "base_uri": "https://localhost:8080/"
        },
        "id": "qip2OwEHpaT6",
        "outputId": "32adb6ad-7120-486b-bbd3-202dc6a27d20"
      },
      "execution_count": null,
      "outputs": [
        {
          "output_type": "stream",
          "name": "stdout",
          "text": [
            "[[Model]]\n",
            "    Model(my_model)\n",
            "[[Fit Statistics]]\n",
            "    # fitting method   = leastsq\n",
            "    # function evals   = 7\n",
            "    # data points      = 5\n",
            "    # variables        = 2\n",
            "    chi-square         = 1.01584378\n",
            "    reduced chi-square = 0.33861459\n",
            "    Akaike info crit   = -3.96859168\n",
            "    Bayesian info crit = -4.74971585\n",
            "    R-squared          = 0.97302019\n",
            "[[Variables]]\n",
            "    c0:  0.34119666 +/- 0.06303399 (18.47%) (init = 1)\n",
            "    c1:  1.93139131 +/- 0.02738371 (1.42%) (init = 1)\n",
            "[[Correlations]] (unreported correlations are < 0.100)\n",
            "    C(c0, c1) = -0.848\n"
          ]
        }
      ]
    },
    {
      "cell_type": "code",
      "source": [
        "result.params"
      ],
      "metadata": {
        "colab": {
          "base_uri": "https://localhost:8080/",
          "height": 83
        },
        "id": "JnrdjHxtrI4x",
        "outputId": "fd6c2c5f-2f1a-4fed-ff97-b1c5ed38e1bc"
      },
      "execution_count": null,
      "outputs": [
        {
          "output_type": "execute_result",
          "data": {
            "text/plain": [
              "Parameters([('c0', <Parameter 'c0', value=0.3411966620307386 +/- 0.063, bounds=[-inf:inf]>), ('c1', <Parameter 'c1', value=1.9313913104507088 +/- 0.0274, bounds=[-inf:inf]>)])"
            ],
            "text/html": [
              "<table><tr><th> name </th><th> value </th><th> standard error </th><th> relative error </th><th> initial value </th><th> min </th><th> max </th><th> vary </th></tr><tr><td> c0 </td><td>  0.34119666 </td><td>  0.06303399 </td><td> (18.47%) </td><td> 1 </td><td>        -inf </td><td>         inf </td><td> True </td></tr><tr><td> c1 </td><td>  1.93139131 </td><td>  0.02738371 </td><td> (1.42%) </td><td> 1 </td><td>        -inf </td><td>         inf </td><td> True </td></tr></table>"
            ]
          },
          "metadata": {},
          "execution_count": 29
        }
      ]
    },
    {
      "cell_type": "code",
      "source": [
        "xfine = np.arange(0,5.2,0.001)\n",
        "ypred = result.eval(x=xfine)\n",
        "dely = result.eval_uncertainty(x=xfine, sigma=1)\n",
        "plt.errorbar(x, y, yerr, linewidth=2, color='g',fmt='.')\n",
        "plt.plot(xfine, ypred, 'k--',label='Polynomial Fitted Line')\n",
        "plt.fill_between(xfine, ypred-2*dely, ypred+2*dely, color=\"r\")\n",
        "plt.fill_between(xfine, ypred-dely, ypred+dely, color=\"#ABABAB\")\n",
        "plt.legend()"
      ],
      "metadata": {
        "colab": {
          "base_uri": "https://localhost:8080/",
          "height": 447
        },
        "id": "_DgZETeumFLo",
        "outputId": "f07cb3a3-1d50-4ed8-ba3e-6be7a70dd602"
      },
      "execution_count": null,
      "outputs": [
        {
          "output_type": "execute_result",
          "data": {
            "text/plain": [
              "<matplotlib.legend.Legend at 0x7f00c4805be0>"
            ]
          },
          "metadata": {},
          "execution_count": 34
        },
        {
          "output_type": "display_data",
          "data": {
            "text/plain": [
              "<Figure size 640x480 with 1 Axes>"
            ],
            "image/png": "[encoded data removed]"
          },
          "metadata": {}
        }
      ]
    },
    {
      "cell_type": "markdown",
      "source": [
        "##IInd Example"
      ],
      "metadata": {
        "id": "R52r1t2K-8OH"
      }
    },
    {
      "cell_type": "code",
      "source": [
        "import numpy as np\n",
        "import lmfit\n",
        "\n",
        "# Define the model\n",
        "def my_model(x, c0, c1):\n",
        "    return (c0 +c1* x)\n",
        "\n",
        "# Define the data\n",
        "x = np.array((1.0, 2.0, 3.0, 4.0, 5.0))\n",
        "y = np.array((2.3, 6.1, 8.2, 4.1, 15.0))\n",
        "yerr = np.array([0.4, 0.6, 1. , 0.8, 1.4])\n",
        "\n",
        "# Create a model object and set initial parameter values\n",
        "mod = lmfit.Model(my_model)\n",
        "params = mod.make_params(c0=1, c1=1)\n",
        "\n",
        "# Fit the model to the data\n",
        "result = mod.fit(y, params, x=x, weights=1/yerr)\n",
        "\n",
        "# Print the fit report\n",
        "print(result.fit_report())\n",
        "\n"
      ],
      "metadata": {
        "colab": {
          "base_uri": "https://localhost:8080/"
        },
        "outputId": "e234d58b-2ee1-432c-de5e-8516e691a7d0",
        "id": "boeDtk-R--UC"
      },
      "execution_count": null,
      "outputs": [
        {
          "output_type": "stream",
          "name": "stdout",
          "text": [
            "[[Model]]\n",
            "    Model(my_model)\n",
            "[[Fit Statistics]]\n",
            "    # fitting method   = leastsq\n",
            "    # function evals   = 7\n",
            "    # data points      = 5\n",
            "    # variables        = 2\n",
            "    chi-square         = 49.9838563\n",
            "    reduced chi-square = 16.6612854\n",
            "    Akaike info crit   = 15.5113108\n",
            "    Bayesian info crit = 14.7301867\n",
            "    R-squared          = 0.48284716\n",
            "[[Variables]]\n",
            "    c0:  0.94693599 +/- 2.21078360 (233.47%) (init = 1)\n",
            "    c1:  1.78426443 +/- 0.96042541 (53.83%) (init = 1)\n",
            "[[Correlations]] (unreported correlations are < 0.100)\n",
            "    C(c0, c1) = -0.848\n"
          ]
        }
      ]
    },
    {
      "cell_type": "code",
      "source": [
        "result.params"
      ],
      "metadata": {
        "colab": {
          "base_uri": "https://localhost:8080/",
          "height": 83
        },
        "outputId": "8781fea0-26a8-4dc1-9591-9157acc90cf9",
        "id": "y7r9S_WT--UD"
      },
      "execution_count": null,
      "outputs": [
        {
          "output_type": "execute_result",
          "data": {
            "text/plain": [
              "Parameters([('c0', <Parameter 'c0', value=0.9469359930198843 +/- 2.21, bounds=[-inf:inf]>), ('c1', <Parameter 'c1', value=1.78426443099684 +/- 0.96, bounds=[-inf:inf]>)])"
            ],
            "text/html": [
              "<table><tr><th> name </th><th> value </th><th> standard error </th><th> relative error </th><th> initial value </th><th> min </th><th> max </th><th> vary </th></tr><tr><td> c0 </td><td>  0.94693599 </td><td>  2.21078360 </td><td> (233.47%) </td><td> 1 </td><td>        -inf </td><td>         inf </td><td> True </td></tr><tr><td> c1 </td><td>  1.78426443 </td><td>  0.96042541 </td><td> (53.83%) </td><td> 1 </td><td>        -inf </td><td>         inf </td><td> True </td></tr></table>"
            ]
          },
          "metadata": {},
          "execution_count": 63
        }
      ]
    },
    {
      "cell_type": "code",
      "source": [
        "xfine = np.arange(0,5.2,0.001)\n",
        "ypred = result.eval(x=xfine)\n",
        "dely = result.eval_uncertainty(x=xfine, sigma=1)\n",
        "plt.errorbar(x, y, yerr, linewidth=2, color='g',fmt='.')\n",
        "plt.plot(xfine, ypred, 'k--',label='Polynomial Fitted Line')\n",
        "plt.fill_between(xfine, ypred-2*dely, ypred+2*dely, color=\"r\")\n",
        "plt.fill_between(xfine, ypred-dely, ypred+dely, color=\"#ABABAB\")\n",
        "plt.legend()"
      ],
      "metadata": {
        "colab": {
          "base_uri": "https://localhost:8080/",
          "height": 447
        },
        "outputId": "8edc1d8c-0347-471a-9b2f-46be6c767ad9",
        "id": "S19H0WBp--UD"
      },
      "execution_count": null,
      "outputs": [
        {
          "output_type": "execute_result",
          "data": {
            "text/plain": [
              "<matplotlib.legend.Legend at 0x7f00bedb3d60>"
            ]
          },
          "metadata": {},
          "execution_count": 64
        },
        {
          "output_type": "display_data",
          "data": {
            "text/plain": [
              "<Figure size 640x480 with 1 Axes>"
            ],
            "image/png": "[encoded data removed]"
          },
          "metadata": {}
        }
      ]
    },
    {
      "cell_type": "code",
      "source": [
        "import numpy as np\n",
        "import matplotlib.pyplot as plt\n",
        "from lmfit.models import PolynomialModel\n",
        "from lmfit.models import ExpressionModel\n",
        "x=np.array((1.0,2.0,3.0,4.0,5.0))\n",
        "y=np.array((2.3,4.1,6.2,8.1,10.0))\n",
        "yerr=np.array((0.08, 0.12, 0.2 , 0.16, 0.28))\n",
        "\n",
        "mod = ExpressionModel('(c0+c1*x**1+c2*x**2)')\n",
        "pars = mod.make_params(c0=0, c1=0,c2=0)\n",
        "result = mod.fit(y, pars, x=x, weights=1.0/yerr)\n",
        "print(result.fit_report())\n",
        "\n"
      ],
      "metadata": {
        "colab": {
          "base_uri": "https://localhost:8080/"
        },
        "id": "p2delJrBnGup",
        "outputId": "4aa08d56-fd0d-4360-afcd-1349120e5d42"
      },
      "execution_count": null,
      "outputs": [
        {
          "output_type": "stream",
          "name": "stdout",
          "text": [
            "[[Model]]\n",
            "    Model(_eval)\n",
            "[[Fit Statistics]]\n",
            "    # fitting method   = leastsq\n",
            "    # function evals   = 9\n",
            "    # data points      = 5\n",
            "    # variables        = 3\n",
            "    chi-square         = 0.75949657\n",
            "    reduced chi-square = 0.37974828\n",
            "    Akaike info crit   = -3.42268696\n",
            "    Bayesian info crit = -4.59437322\n",
            "    R-squared          = 0.97982852\n",
            "[[Variables]]\n",
            "    c0:  0.45167262 +/- 0.15012052 (33.24%) (init = 0)\n",
            "    c1:  1.81317130 +/- 0.14678135 (8.10%) (init = 0)\n",
            "    c2:  0.02267691 +/- 0.02760056 (121.71%) (init = 0)\n",
            "[[Correlations]] (unreported correlations are < 0.100)\n",
            "    C(c1, c2) = -0.980\n",
            "    C(c0, c1) = -0.952\n",
            "    C(c0, c2) = 0.896\n"
          ]
        }
      ]
    },
    {
      "cell_type": "code",
      "source": [],
      "metadata": {
        "id": "NM43P8kQs9OW"
      },
      "execution_count": null,
      "outputs": []
    }
  ]
}